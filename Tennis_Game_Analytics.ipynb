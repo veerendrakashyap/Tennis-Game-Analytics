{
 "cells": [
  {
   "cell_type": "code",
   "execution_count": 1,
   "id": "0525bfc2-cc7a-4155-905a-a9aeabbbb1d9",
   "metadata": {},
   "outputs": [
    {
     "name": "stdout",
     "output_type": "stream",
     "text": [
      "Status Code: 200\n",
      "Sample Competition: {'id': 'sr:competition:620', 'name': 'Hopman Cup', 'type': 'mixed', 'gender': 'mixed', 'category': {'id': 'sr:category:181', 'name': 'Hopman Cup'}}\n"
     ]
    }
   ],
   "source": [
    "import requests\n",
    "\n",
    "# API key\n",
    "API_KEY = \"6XdJHAodRZCtiXxuFXovlE1w73QhyH7cMOf0xRmX\"\n",
    "\n",
    "# Competitions endpoint\n",
    "url = \"https://api.sportradar.com/tennis/trial/v3/en/competitions.json\"\n",
    "\n",
    "# Call API\n",
    "response = requests.get(url, params={\"api_key\": API_KEY})\n",
    "\n",
    "# Check status\n",
    "print(\"Status Code:\", response.status_code)\n",
    "\n",
    "# Print a sample response\n",
    "if response.status_code == 200:\n",
    "    data = response.json()\n",
    "    print(\"Sample Competition:\", data['competitions'][0])\n",
    "else:\n",
    "    print(\"Error:\", response.text)"
   ]
  },
  {
   "cell_type": "code",
   "execution_count": 2,
   "id": "713faf4b-85f7-49b7-b43c-b4b827fc77a7",
   "metadata": {},
   "outputs": [
    {
     "name": "stdout",
     "output_type": "stream",
     "text": [
      "Connected to MySQL!\n"
     ]
    }
   ],
   "source": [
    "import mysql.connector\n",
    "\n",
    "# Connect to MySQL\n",
    "conn = mysql.connector.connect(\n",
    "    host=\"localhost\",\n",
    "    user=\"root\",          # change if your username is different\n",
    "    password=\"Veerendra@06\",          # add your MySQL password if any\n",
    "    database=\"tennis_data\"\n",
    ")\n",
    "\n",
    "cursor = conn.cursor()\n",
    "print(\"Connected to MySQL!\")\n"
   ]
  },
  {
   "cell_type": "code",
   "execution_count": 3,
   "id": "c63e91a8-e784-4e3a-848f-8641854b0e03",
   "metadata": {},
   "outputs": [
    {
     "name": "stdout",
     "output_type": "stream",
     "text": [
      "Inserted 18 categories successfully!\n"
     ]
    }
   ],
   "source": [
    "# Extract categories from competitions data\n",
    "categories_data = {}\n",
    "\n",
    "for comp in data['competitions']:\n",
    "    cat = comp['category']\n",
    "    cat_id = cat['id']\n",
    "    cat_name = cat['name']\n",
    "    \n",
    "    if cat_id not in categories_data:\n",
    "        categories_data[cat_id] = cat_name\n",
    "\n",
    "# Insert into 'categories' table\n",
    "for cat_id, cat_name in categories_data.items():\n",
    "    query = \"INSERT INTO categories (category_id, category_name) VALUES (%s, %s)\"\n",
    "    values = (cat_id, cat_name)\n",
    "    cursor.execute(query, values)\n",
    "\n",
    "conn.commit()\n",
    "print(f\"Inserted {len(categories_data)} categories successfully!\")\n"
   ]
  },
  {
   "cell_type": "code",
   "execution_count": 4,
   "id": "a0e8f912-575b-4457-a092-391fa57feb86",
   "metadata": {},
   "outputs": [
    {
     "name": "stdout",
     "output_type": "stream",
     "text": [
      "Inserted 6161 competitions successfully!\n"
     ]
    }
   ],
   "source": [
    "# Insert into competitions table\n",
    "inserted = 0\n",
    "\n",
    "for comp in data['competitions']:\n",
    "    comp_id = comp.get('id')\n",
    "    comp_name = comp.get('name')\n",
    "    parent_id = comp.get('parent_id')  # can be None\n",
    "    comp_type = comp.get('type')\n",
    "    gender = comp.get('gender')\n",
    "    cat_id = comp['category']['id']  # foreign key from categories\n",
    "\n",
    "    query = \"\"\"\n",
    "        INSERT INTO competitions (\n",
    "            competition_id, competition_name, parent_id, type, gender, category_id\n",
    "        ) VALUES (%s, %s, %s, %s, %s, %s)\n",
    "    \"\"\"\n",
    "    values = (comp_id, comp_name, parent_id, comp_type, gender, cat_id)\n",
    "    \n",
    "    cursor.execute(query, values)\n",
    "    inserted += 1\n",
    "\n",
    "conn.commit()\n",
    "print(f\"Inserted {inserted} competitions successfully!\")\n"
   ]
  },
  {
   "cell_type": "code",
   "execution_count": 5,
   "id": "6376d25e-bc76-45bc-896d-f483965972d5",
   "metadata": {},
   "outputs": [
    {
     "name": "stdout",
     "output_type": "stream",
     "text": [
      "Status Code: 200\n",
      "Sample Complex: {'id': 'sr:complex:705', 'name': 'Nacional', 'venues': [{'id': 'sr:venue:70045', 'name': 'Cancha Central', 'city_name': 'Santiago', 'country_name': 'Chile', 'country_code': 'CHL', 'timezone': 'America/Santiago'}]}\n"
     ]
    }
   ],
   "source": [
    "# Complexes endpoint\n",
    "complex_url = \"https://api.sportradar.com/tennis/trial/v3/en/complexes.json\"\n",
    "\n",
    "# Call the API\n",
    "response = requests.get(complex_url, params={\"api_key\": API_KEY})\n",
    "\n",
    "# Check response\n",
    "print(\"Status Code:\", response.status_code)\n",
    "\n",
    "if response.status_code == 200:\n",
    "    complex_data = response.json()\n",
    "    print(\"Sample Complex:\", complex_data['complexes'][0])\n",
    "else:\n",
    "    print(\"Error:\", response.text)\n"
   ]
  },
  {
   "cell_type": "code",
   "execution_count": 6,
   "id": "08ea8306-de52-43b1-9ac7-c9bafabd806e",
   "metadata": {},
   "outputs": [
    {
     "name": "stdout",
     "output_type": "stream",
     "text": [
      "Inserted 680 complexes successfully!\n"
     ]
    }
   ],
   "source": [
    "# Insert into 'complexes' table\n",
    "complex_list = complex_data['complexes']\n",
    "inserted_complexes = 0\n",
    "\n",
    "for item in complex_list:\n",
    "    complex_id = item.get('id')\n",
    "    complex_name = item.get('name')\n",
    "\n",
    "    query = \"INSERT INTO complexes (complex_id, complex_name) VALUES (%s, %s)\"\n",
    "    values = (complex_id, complex_name)\n",
    "    \n",
    "    cursor.execute(query, values)\n",
    "    inserted_complexes += 1\n",
    "\n",
    "conn.commit()\n",
    "print(f\"Inserted {inserted_complexes} complexes successfully!\")\n"
   ]
  },
  {
   "cell_type": "code",
   "execution_count": 7,
   "id": "0c3a420a-7f40-45cd-a11c-13f1a1055ce2",
   "metadata": {},
   "outputs": [
    {
     "name": "stdout",
     "output_type": "stream",
     "text": [
      "Inserted 3522 venues successfully!\n"
     ]
    }
   ],
   "source": [
    "# Insert venues linked to each complex\n",
    "inserted_venues = 0\n",
    "\n",
    "for complex_item in complex_list:\n",
    "    complex_id = complex_item.get('id')\n",
    "    venues = complex_item.get('venues', [])\n",
    "    \n",
    "    for v in venues:\n",
    "        venue_id = v.get('id')\n",
    "        venue_name = v.get('name')\n",
    "        city_name = v.get('city_name')\n",
    "        country_name = v.get('country_name')\n",
    "        country_code = v.get('country_code')\n",
    "        timezone = v.get('timezone')\n",
    "\n",
    "        query = \"\"\"\n",
    "            INSERT INTO venues (\n",
    "                venue_id, venue_name, city_name, country_name,\n",
    "                country_code, timezone, complex_id\n",
    "            ) VALUES (%s, %s, %s, %s, %s, %s, %s)\n",
    "        \"\"\"\n",
    "        values = (\n",
    "            venue_id, venue_name, city_name, country_name,\n",
    "            country_code, timezone, complex_id\n",
    "        )\n",
    "\n",
    "        cursor.execute(query, values)\n",
    "        inserted_venues += 1\n",
    "\n",
    "conn.commit()\n",
    "print(f\"Inserted {inserted_venues} venues successfully!\")\n"
   ]
  },
  {
   "cell_type": "code",
   "execution_count": 11,
   "id": "96fd0100-427d-4283-bf77-acedd90d0fc4",
   "metadata": {},
   "outputs": [],
   "source": [
    "# Sample data simulating the API response\n",
    "ranking_data = {\n",
    "    \"rankings\": [\n",
    "        {\n",
    "            \"rank\": 1,\n",
    "            \"movement\": 0,\n",
    "            \"points\": 8000,\n",
    "            \"competitions_played\": 18,\n",
    "            \"competitor\": {\n",
    "                \"id\": \"sr:competitor:1001\",\n",
    "                \"name\": \"John Doe\",\n",
    "                \"country\": \"USA\",\n",
    "                \"country_code\": \"USA\",\n",
    "                \"abbreviation\": \"JDO\"\n",
    "            }\n",
    "        },\n",
    "        {\n",
    "            \"rank\": 2,\n",
    "            \"movement\": 1,\n",
    "            \"points\": 7800,\n",
    "            \"competitions_played\": 19,\n",
    "            \"competitor\": {\n",
    "                \"id\": \"sr:competitor:1002\",\n",
    "                \"name\": \"Carlos Smith\",\n",
    "                \"country\": \"Spain\",\n",
    "                \"country_code\": \"ESP\",\n",
    "                \"abbreviation\": \"CSM\"\n",
    "            }\n",
    "        },\n",
    "        {\n",
    "            \"rank\": 3,\n",
    "            \"movement\": -1,\n",
    "            \"points\": 7500,\n",
    "            \"competitions_played\": 20,\n",
    "            \"competitor\": {\n",
    "                \"id\": \"sr:competitor:1003\",\n",
    "                \"name\": \"Liam Zhang\",\n",
    "                \"country\": \"China\",\n",
    "                \"country_code\": \"CHN\",\n",
    "                \"abbreviation\": \"LZH\"\n",
    "            }\n",
    "        }\n",
    "    ]\n",
    "}\n"
   ]
  },
  {
   "cell_type": "code",
   "execution_count": 12,
   "id": "1b17a961-6a56-4be5-b032-e377ba6d4cc6",
   "metadata": {},
   "outputs": [
    {
     "name": "stdout",
     "output_type": "stream",
     "text": [
      "Inserted 3 competitors successfully!\n"
     ]
    }
   ],
   "source": [
    "# Insert competitors into 'competitors' table\n",
    "inserted_competitors = 0\n",
    "\n",
    "for player in ranking_data[\"rankings\"]:\n",
    "    comp = player[\"competitor\"]\n",
    "    comp_id = comp[\"id\"]\n",
    "    name = comp[\"name\"]\n",
    "    country = comp[\"country\"]\n",
    "    country_code = comp[\"country_code\"]\n",
    "    abbreviation = comp[\"abbreviation\"]\n",
    "\n",
    "    query = \"\"\"\n",
    "        INSERT INTO competitors (competitor_id, name, country, country_code, abbreviation)\n",
    "        VALUES (%s, %s, %s, %s, %s)\n",
    "    \"\"\"\n",
    "    values = (comp_id, name, country, country_code, abbreviation)\n",
    "\n",
    "    cursor.execute(query, values)\n",
    "    inserted_competitors += 1\n",
    "\n",
    "conn.commit()\n",
    "print(f\"Inserted {inserted_competitors} competitors successfully!\")\n"
   ]
  },
  {
   "cell_type": "code",
   "execution_count": 14,
   "id": "a7d3f8ef-b9e2-4d48-92b8-c53019d9b0aa",
   "metadata": {},
   "outputs": [
    {
     "name": "stdout",
     "output_type": "stream",
     "text": [
      "Inserted 3 competitor rankings successfully!\n"
     ]
    }
   ],
   "source": [
    "# Insert rankings into 'competitor_rankings' table\n",
    "inserted_rankings = 0\n",
    "\n",
    "for player in ranking_data[\"rankings\"]:\n",
    "    rank = player[\"rank\"]\n",
    "    movement = player[\"movement\"]\n",
    "    points = player[\"points\"]\n",
    "    competitions_played = player[\"competitions_played\"]\n",
    "    competitor_id = player[\"competitor\"][\"id\"]\n",
    "\n",
    "    query = \"\"\"\n",
    "        INSERT INTO competitor_rankings (\n",
    "            `rank`, movement, points, competitions_played, competitor_id\n",
    "        ) VALUES (%s, %s, %s, %s, %s)\n",
    "    \"\"\"\n",
    "    values = (rank, movement, points, competitions_played, competitor_id)\n",
    "\n",
    "    cursor.execute(query, values)\n",
    "    inserted_rankings += 1\n",
    "\n",
    "conn.commit()\n",
    "print(f\"Inserted {inserted_rankings} competitor rankings successfully!\")\n"
   ]
  }
 ],
 "metadata": {
  "kernelspec": {
   "display_name": "Python 3 (ipykernel)",
   "language": "python",
   "name": "python3"
  },
  "language_info": {
   "codemirror_mode": {
    "name": "ipython",
    "version": 3
   },
   "file_extension": ".py",
   "mimetype": "text/x-python",
   "name": "python",
   "nbconvert_exporter": "python",
   "pygments_lexer": "ipython3",
   "version": "3.13.5"
  }
 },
 "nbformat": 4,
 "nbformat_minor": 5
}
